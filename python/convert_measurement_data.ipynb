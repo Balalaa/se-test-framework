{
 "cells": [
  {
   "cell_type": "code",
   "execution_count": 3,
   "metadata": {},
   "outputs": [
    {
     "name": "stdout",
     "output_type": "stream",
     "text": [
      "Keys: dict_keys(['H', 'z'])\n",
      "H shape: (41, 29, 172996)\n",
      "z shape: (172996, 41)\n"
     ]
    }
   ],
   "source": [
    "import scipy.io\n",
    "import numpy as np\n",
    "from random import randint\n",
    "from sklearn.preprocessing import normalize\n",
    "files = ['13', '14', '15', '16', '17']\n",
    "\n",
    "# Contains index and axes for appending arrays to each other\n",
    "indexes = {'H': 2, 'z': 0}\n",
    "data = {}\n",
    "\n",
    "for index, file in enumerate(files):\n",
    "    mat = scipy.io.loadmat('..\\\\..\\\\Matlab\\\\mat\\\\nyiso_load_statevars{}_py'.format(file))\n",
    "    for k, v in indexes.items():\n",
    "        if index == 0:\n",
    "            data[k] = mat[k]\n",
    "        else:\n",
    "            data[k] = np.append(data[k], mat[k], axis=v)\n",
    "            \n",
    "print(\"Keys: {}\".format(data.keys()))\n",
    "for k, v in indexes.items():\n",
    "    print(\"{} shape: {}\".format(k, data[k].shape))"
   ]
  }
 ],
 "metadata": {
  "kernelspec": {
   "display_name": "Python 3",
   "language": "python",
   "name": "python3"
  },
  "language_info": {
   "codemirror_mode": {
    "name": "ipython",
    "version": 3
   },
   "file_extension": ".py",
   "mimetype": "text/x-python",
   "name": "python",
   "nbconvert_exporter": "python",
   "pygments_lexer": "ipython3",
   "version": "3.6.4"
  }
 },
 "nbformat": 4,
 "nbformat_minor": 2
}
